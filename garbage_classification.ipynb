{
  "cells": [
    {
      "cell_type": "markdown",
      "id": "7b4a4771",
      "metadata": {
        "id": "7b4a4771"
      },
      "source": [
        "# Garbage Classification — Data Preprocessing & Inspection\n",
        "\n",
        "In this notebook, we will perform the full **data preprocessing and inspection** steps to make the dataset ready for modeling.  \n",
        "We aim to satisfy the following criteria:\n",
        "\n",
        "- Load & inspect the dataset (≈ 13.9k images)  \n",
        "- Confirm the 6 classes (`plastic`, `metal`, `glass`, `cardboard`, `paper`, `trash`)  \n",
        "- Verify class balance (≈ 2,300–2,500 images per class)  \n",
        "- Detect (and optionally remove or flag) duplicates  \n",
        "- Confirm image sizes and color channels (expected: 256×256, 3 channels RGB)  \n",
        "- Ensure labels align correctly with image files  \n",
        "- Split into train / validation / (test) sets, with stratification  \n",
        "- Normalize / standardize pixel values (record method)  \n",
        "- (Optional) Set up data augmentation  \n",
        "- Build a pipeline or loader to ensure a batch can go through a baseline CNN  \n",
        "\n",
        "We’ll break this into sections.\n",
        "\n",
        "---\n",
        "\n",
        "## 0. Download Kaggle Garbage Images Dataset\n"
      ]
    },
    {
      "cell_type": "code",
      "source": [
        "from google.colab import files\n",
        "# Upload your kaggle.json\n",
        "    # Only needs to be done once\n",
        "    # If you have not uploaded kaggle.json file here before,\n",
        "        # follow instructions below on acquiring kaggle.json\n",
        "files.upload()\n",
        "!mkdir -p ~/.kaggle\n",
        "!mv kaggle.json ~/.kaggle/\n",
        "!chmod 600 ~/.kaggle/kaggle.json"
      ],
      "metadata": {
        "id": "IC-qV-5ER9Sw",
        "outputId": "1e8eb473-86ab-4416-ec00-d9d7b7edf77f",
        "colab": {
          "base_uri": "https://localhost:8080/",
          "height": 55
        }
      },
      "id": "IC-qV-5ER9Sw",
      "execution_count": 10,
      "outputs": [
        {
          "output_type": "display_data",
          "data": {
            "text/plain": [
              "<IPython.core.display.HTML object>"
            ],
            "text/html": [
              "\n",
              "     <input type=\"file\" id=\"files-7d88840b-d539-4d55-bc58-4ebc926c84aa\" name=\"files[]\" multiple disabled\n",
              "        style=\"border:none\" />\n",
              "     <output id=\"result-7d88840b-d539-4d55-bc58-4ebc926c84aa\">\n",
              "      Upload widget is only available when the cell has been executed in the\n",
              "      current browser session. Please rerun this cell to enable.\n",
              "      </output>\n",
              "      <script>// Copyright 2017 Google LLC\n",
              "//\n",
              "// Licensed under the Apache License, Version 2.0 (the \"License\");\n",
              "// you may not use this file except in compliance with the License.\n",
              "// You may obtain a copy of the License at\n",
              "//\n",
              "//      http://www.apache.org/licenses/LICENSE-2.0\n",
              "//\n",
              "// Unless required by applicable law or agreed to in writing, software\n",
              "// distributed under the License is distributed on an \"AS IS\" BASIS,\n",
              "// WITHOUT WARRANTIES OR CONDITIONS OF ANY KIND, either express or implied.\n",
              "// See the License for the specific language governing permissions and\n",
              "// limitations under the License.\n",
              "\n",
              "/**\n",
              " * @fileoverview Helpers for google.colab Python module.\n",
              " */\n",
              "(function(scope) {\n",
              "function span(text, styleAttributes = {}) {\n",
              "  const element = document.createElement('span');\n",
              "  element.textContent = text;\n",
              "  for (const key of Object.keys(styleAttributes)) {\n",
              "    element.style[key] = styleAttributes[key];\n",
              "  }\n",
              "  return element;\n",
              "}\n",
              "\n",
              "// Max number of bytes which will be uploaded at a time.\n",
              "const MAX_PAYLOAD_SIZE = 100 * 1024;\n",
              "\n",
              "function _uploadFiles(inputId, outputId) {\n",
              "  const steps = uploadFilesStep(inputId, outputId);\n",
              "  const outputElement = document.getElementById(outputId);\n",
              "  // Cache steps on the outputElement to make it available for the next call\n",
              "  // to uploadFilesContinue from Python.\n",
              "  outputElement.steps = steps;\n",
              "\n",
              "  return _uploadFilesContinue(outputId);\n",
              "}\n",
              "\n",
              "// This is roughly an async generator (not supported in the browser yet),\n",
              "// where there are multiple asynchronous steps and the Python side is going\n",
              "// to poll for completion of each step.\n",
              "// This uses a Promise to block the python side on completion of each step,\n",
              "// then passes the result of the previous step as the input to the next step.\n",
              "function _uploadFilesContinue(outputId) {\n",
              "  const outputElement = document.getElementById(outputId);\n",
              "  const steps = outputElement.steps;\n",
              "\n",
              "  const next = steps.next(outputElement.lastPromiseValue);\n",
              "  return Promise.resolve(next.value.promise).then((value) => {\n",
              "    // Cache the last promise value to make it available to the next\n",
              "    // step of the generator.\n",
              "    outputElement.lastPromiseValue = value;\n",
              "    return next.value.response;\n",
              "  });\n",
              "}\n",
              "\n",
              "/**\n",
              " * Generator function which is called between each async step of the upload\n",
              " * process.\n",
              " * @param {string} inputId Element ID of the input file picker element.\n",
              " * @param {string} outputId Element ID of the output display.\n",
              " * @return {!Iterable<!Object>} Iterable of next steps.\n",
              " */\n",
              "function* uploadFilesStep(inputId, outputId) {\n",
              "  const inputElement = document.getElementById(inputId);\n",
              "  inputElement.disabled = false;\n",
              "\n",
              "  const outputElement = document.getElementById(outputId);\n",
              "  outputElement.innerHTML = '';\n",
              "\n",
              "  const pickedPromise = new Promise((resolve) => {\n",
              "    inputElement.addEventListener('change', (e) => {\n",
              "      resolve(e.target.files);\n",
              "    });\n",
              "  });\n",
              "\n",
              "  const cancel = document.createElement('button');\n",
              "  inputElement.parentElement.appendChild(cancel);\n",
              "  cancel.textContent = 'Cancel upload';\n",
              "  const cancelPromise = new Promise((resolve) => {\n",
              "    cancel.onclick = () => {\n",
              "      resolve(null);\n",
              "    };\n",
              "  });\n",
              "\n",
              "  // Wait for the user to pick the files.\n",
              "  const files = yield {\n",
              "    promise: Promise.race([pickedPromise, cancelPromise]),\n",
              "    response: {\n",
              "      action: 'starting',\n",
              "    }\n",
              "  };\n",
              "\n",
              "  cancel.remove();\n",
              "\n",
              "  // Disable the input element since further picks are not allowed.\n",
              "  inputElement.disabled = true;\n",
              "\n",
              "  if (!files) {\n",
              "    return {\n",
              "      response: {\n",
              "        action: 'complete',\n",
              "      }\n",
              "    };\n",
              "  }\n",
              "\n",
              "  for (const file of files) {\n",
              "    const li = document.createElement('li');\n",
              "    li.append(span(file.name, {fontWeight: 'bold'}));\n",
              "    li.append(span(\n",
              "        `(${file.type || 'n/a'}) - ${file.size} bytes, ` +\n",
              "        `last modified: ${\n",
              "            file.lastModifiedDate ? file.lastModifiedDate.toLocaleDateString() :\n",
              "                                    'n/a'} - `));\n",
              "    const percent = span('0% done');\n",
              "    li.appendChild(percent);\n",
              "\n",
              "    outputElement.appendChild(li);\n",
              "\n",
              "    const fileDataPromise = new Promise((resolve) => {\n",
              "      const reader = new FileReader();\n",
              "      reader.onload = (e) => {\n",
              "        resolve(e.target.result);\n",
              "      };\n",
              "      reader.readAsArrayBuffer(file);\n",
              "    });\n",
              "    // Wait for the data to be ready.\n",
              "    let fileData = yield {\n",
              "      promise: fileDataPromise,\n",
              "      response: {\n",
              "        action: 'continue',\n",
              "      }\n",
              "    };\n",
              "\n",
              "    // Use a chunked sending to avoid message size limits. See b/62115660.\n",
              "    let position = 0;\n",
              "    do {\n",
              "      const length = Math.min(fileData.byteLength - position, MAX_PAYLOAD_SIZE);\n",
              "      const chunk = new Uint8Array(fileData, position, length);\n",
              "      position += length;\n",
              "\n",
              "      const base64 = btoa(String.fromCharCode.apply(null, chunk));\n",
              "      yield {\n",
              "        response: {\n",
              "          action: 'append',\n",
              "          file: file.name,\n",
              "          data: base64,\n",
              "        },\n",
              "      };\n",
              "\n",
              "      let percentDone = fileData.byteLength === 0 ?\n",
              "          100 :\n",
              "          Math.round((position / fileData.byteLength) * 100);\n",
              "      percent.textContent = `${percentDone}% done`;\n",
              "\n",
              "    } while (position < fileData.byteLength);\n",
              "  }\n",
              "\n",
              "  // All done.\n",
              "  yield {\n",
              "    response: {\n",
              "      action: 'complete',\n",
              "    }\n",
              "  };\n",
              "}\n",
              "\n",
              "scope.google = scope.google || {};\n",
              "scope.google.colab = scope.google.colab || {};\n",
              "scope.google.colab._files = {\n",
              "  _uploadFiles,\n",
              "  _uploadFilesContinue,\n",
              "};\n",
              "})(self);\n",
              "</script> "
            ]
          },
          "metadata": {}
        },
        {
          "output_type": "stream",
          "name": "stdout",
          "text": [
            "mv: cannot stat 'kaggle.json': No such file or directory\n"
          ]
        }
      ]
    },
    {
      "cell_type": "code",
      "source": [
        "!pip install -q kaggle\n",
        "\n",
        "import os\n",
        "\n",
        "# Make sure the Kaggle API key is available\n",
        "if not os.path.exists(\"/root/.kaggle/kaggle.json\"):\n",
        "    print(\"UPLOAD KAGGLE.JSON FILE ABOVE\")\n",
        "    print(\"WATCH VIDEO I (AGUSTIN) SENT IN GROUP CHAT ON GETTING KAGGLE.JSON\")\n",
        "\n",
        "# Create data directory if not exists\n",
        "os.makedirs(\"data\", exist_ok=True)\n",
        "\n",
        "# Download + unzip only if not already present\n",
        "if not os.path.exists(\"data/Garbage_Dataset_Classification\"):\n",
        "    !kaggle datasets download -d zlatan599/garbage-dataset-classification -p data/\n",
        "    !unzip -q data/garbage-dataset-classification.zip -d data/\n",
        "    print(\"Dataset downloaded and extracted!\")\n",
        "else:\n",
        "    print(\"Dataset already exists, skipping download.\")"
      ],
      "metadata": {
        "id": "HHxCNBeeQHYV",
        "outputId": "099eae75-5dc7-4741-a080-689b206ab8a0",
        "colab": {
          "base_uri": "https://localhost:8080/"
        }
      },
      "id": "HHxCNBeeQHYV",
      "execution_count": 11,
      "outputs": [
        {
          "output_type": "stream",
          "name": "stdout",
          "text": [
            "Dataset already exists, skipping download.\n"
          ]
        }
      ]
    },
    {
      "cell_type": "markdown",
      "source": [
        "## 1. Setup & Imports (install if not already done)"
      ],
      "metadata": {
        "id": "CvJXOxeDWUUs"
      },
      "id": "CvJXOxeDWUUs"
    },
    {
      "cell_type": "code",
      "metadata": {
        "colab": {
          "base_uri": "https://localhost:8080/"
        },
        "collapsed": true,
        "id": "f7036cb1",
        "outputId": "1d92ef90-fde6-48f0-d46e-f72ff2dd21da"
      },
      "source": [
        "%pip install imagededup"
      ],
      "id": "f7036cb1",
      "execution_count": 4,
      "outputs": [
        {
          "output_type": "stream",
          "name": "stdout",
          "text": [
            "Requirement already satisfied: imagededup in /usr/local/lib/python3.12/dist-packages (0.3.3.post2)\n",
            "Requirement already satisfied: torch in /usr/local/lib/python3.12/dist-packages (from imagededup) (2.8.0+cu126)\n",
            "Requirement already satisfied: torchvision in /usr/local/lib/python3.12/dist-packages (from imagededup) (0.23.0+cu126)\n",
            "Requirement already satisfied: Pillow>=9.0 in /usr/local/lib/python3.12/dist-packages (from imagededup) (11.3.0)\n",
            "Requirement already satisfied: tqdm in /usr/local/lib/python3.12/dist-packages (from imagededup) (4.67.1)\n",
            "Requirement already satisfied: scikit-learn in /usr/local/lib/python3.12/dist-packages (from imagededup) (1.6.1)\n",
            "Requirement already satisfied: PyWavelets in /usr/local/lib/python3.12/dist-packages (from imagededup) (1.9.0)\n",
            "Requirement already satisfied: matplotlib in /usr/local/lib/python3.12/dist-packages (from imagededup) (3.10.0)\n",
            "Requirement already satisfied: contourpy>=1.0.1 in /usr/local/lib/python3.12/dist-packages (from matplotlib->imagededup) (1.3.3)\n",
            "Requirement already satisfied: cycler>=0.10 in /usr/local/lib/python3.12/dist-packages (from matplotlib->imagededup) (0.12.1)\n",
            "Requirement already satisfied: fonttools>=4.22.0 in /usr/local/lib/python3.12/dist-packages (from matplotlib->imagededup) (4.60.1)\n",
            "Requirement already satisfied: kiwisolver>=1.3.1 in /usr/local/lib/python3.12/dist-packages (from matplotlib->imagededup) (1.4.9)\n",
            "Requirement already satisfied: numpy>=1.23 in /usr/local/lib/python3.12/dist-packages (from matplotlib->imagededup) (2.0.2)\n",
            "Requirement already satisfied: packaging>=20.0 in /usr/local/lib/python3.12/dist-packages (from matplotlib->imagededup) (25.0)\n",
            "Requirement already satisfied: pyparsing>=2.3.1 in /usr/local/lib/python3.12/dist-packages (from matplotlib->imagededup) (3.2.5)\n",
            "Requirement already satisfied: python-dateutil>=2.7 in /usr/local/lib/python3.12/dist-packages (from matplotlib->imagededup) (2.9.0.post0)\n",
            "Requirement already satisfied: scipy>=1.6.0 in /usr/local/lib/python3.12/dist-packages (from scikit-learn->imagededup) (1.16.2)\n",
            "Requirement already satisfied: joblib>=1.2.0 in /usr/local/lib/python3.12/dist-packages (from scikit-learn->imagededup) (1.5.2)\n",
            "Requirement already satisfied: threadpoolctl>=3.1.0 in /usr/local/lib/python3.12/dist-packages (from scikit-learn->imagededup) (3.6.0)\n",
            "Requirement already satisfied: filelock in /usr/local/lib/python3.12/dist-packages (from torch->imagededup) (3.19.1)\n",
            "Requirement already satisfied: typing-extensions>=4.10.0 in /usr/local/lib/python3.12/dist-packages (from torch->imagededup) (4.15.0)\n",
            "Requirement already satisfied: setuptools in /usr/local/lib/python3.12/dist-packages (from torch->imagededup) (75.2.0)\n",
            "Requirement already satisfied: sympy>=1.13.3 in /usr/local/lib/python3.12/dist-packages (from torch->imagededup) (1.13.3)\n",
            "Requirement already satisfied: networkx in /usr/local/lib/python3.12/dist-packages (from torch->imagededup) (3.5)\n",
            "Requirement already satisfied: jinja2 in /usr/local/lib/python3.12/dist-packages (from torch->imagededup) (3.1.6)\n",
            "Requirement already satisfied: fsspec in /usr/local/lib/python3.12/dist-packages (from torch->imagededup) (2025.3.0)\n",
            "Requirement already satisfied: nvidia-cuda-nvrtc-cu12==12.6.77 in /usr/local/lib/python3.12/dist-packages (from torch->imagededup) (12.6.77)\n",
            "Requirement already satisfied: nvidia-cuda-runtime-cu12==12.6.77 in /usr/local/lib/python3.12/dist-packages (from torch->imagededup) (12.6.77)\n",
            "Requirement already satisfied: nvidia-cuda-cupti-cu12==12.6.80 in /usr/local/lib/python3.12/dist-packages (from torch->imagededup) (12.6.80)\n",
            "Requirement already satisfied: nvidia-cudnn-cu12==9.10.2.21 in /usr/local/lib/python3.12/dist-packages (from torch->imagededup) (9.10.2.21)\n",
            "Requirement already satisfied: nvidia-cublas-cu12==12.6.4.1 in /usr/local/lib/python3.12/dist-packages (from torch->imagededup) (12.6.4.1)\n",
            "Requirement already satisfied: nvidia-cufft-cu12==11.3.0.4 in /usr/local/lib/python3.12/dist-packages (from torch->imagededup) (11.3.0.4)\n",
            "Requirement already satisfied: nvidia-curand-cu12==10.3.7.77 in /usr/local/lib/python3.12/dist-packages (from torch->imagededup) (10.3.7.77)\n",
            "Requirement already satisfied: nvidia-cusolver-cu12==11.7.1.2 in /usr/local/lib/python3.12/dist-packages (from torch->imagededup) (11.7.1.2)\n",
            "Requirement already satisfied: nvidia-cusparse-cu12==12.5.4.2 in /usr/local/lib/python3.12/dist-packages (from torch->imagededup) (12.5.4.2)\n",
            "Requirement already satisfied: nvidia-cusparselt-cu12==0.7.1 in /usr/local/lib/python3.12/dist-packages (from torch->imagededup) (0.7.1)\n",
            "Requirement already satisfied: nvidia-nccl-cu12==2.27.3 in /usr/local/lib/python3.12/dist-packages (from torch->imagededup) (2.27.3)\n",
            "Requirement already satisfied: nvidia-nvtx-cu12==12.6.77 in /usr/local/lib/python3.12/dist-packages (from torch->imagededup) (12.6.77)\n",
            "Requirement already satisfied: nvidia-nvjitlink-cu12==12.6.85 in /usr/local/lib/python3.12/dist-packages (from torch->imagededup) (12.6.85)\n",
            "Requirement already satisfied: nvidia-cufile-cu12==1.11.1.6 in /usr/local/lib/python3.12/dist-packages (from torch->imagededup) (1.11.1.6)\n",
            "Requirement already satisfied: triton==3.4.0 in /usr/local/lib/python3.12/dist-packages (from torch->imagededup) (3.4.0)\n",
            "Requirement already satisfied: six>=1.5 in /usr/local/lib/python3.12/dist-packages (from python-dateutil>=2.7->matplotlib->imagededup) (1.17.0)\n",
            "Requirement already satisfied: mpmath<1.4,>=1.1.0 in /usr/local/lib/python3.12/dist-packages (from sympy>=1.13.3->torch->imagededup) (1.3.0)\n",
            "Requirement already satisfied: MarkupSafe>=2.0 in /usr/local/lib/python3.12/dist-packages (from jinja2->torch->imagededup) (3.0.3)\n"
          ]
        }
      ]
    },
    {
      "cell_type": "code",
      "execution_count": 5,
      "id": "75511c52",
      "metadata": {
        "id": "75511c52"
      },
      "outputs": [],
      "source": [
        "# Required libraries\n",
        "import os\n",
        "from pathlib import Path\n",
        "from collections import Counter\n",
        "import random\n",
        "import hashlib\n",
        "\n",
        "from PIL import Image\n",
        "import numpy as np\n",
        "import matplotlib.pyplot as plt\n",
        "\n",
        "# For splitting\n",
        "from sklearn.model_selection import train_test_split\n",
        "\n",
        "# For deduplication\n",
        "from imagededup.methods import PHash"
      ]
    },
    {
      "cell_type": "markdown",
      "id": "c6c334de",
      "metadata": {
        "id": "c6c334de"
      },
      "source": [
        "## 2. Define dataset root & discover classes (change path in codeblock)"
      ]
    },
    {
      "cell_type": "code",
      "execution_count": 6,
      "id": "2ecde58f",
      "metadata": {
        "colab": {
          "base_uri": "https://localhost:8080/",
          "height": 245
        },
        "id": "2ecde58f",
        "outputId": "fa728817-c5ca-486a-a862-6917f07cd6e4"
      },
      "outputs": [
        {
          "output_type": "error",
          "ename": "AssertionError",
          "evalue": "Dataset root not found: /Users/hadibhidya/Desktop/cs325/project/Garbage_Dataset_Classification/images",
          "traceback": [
            "\u001b[0;31m---------------------------------------------------------------------------\u001b[0m",
            "\u001b[0;31mAssertionError\u001b[0m                            Traceback (most recent call last)",
            "\u001b[0;32m/tmp/ipython-input-2061423980.py\u001b[0m in \u001b[0;36m<cell line: 0>\u001b[0;34m()\u001b[0m\n\u001b[1;32m      2\u001b[0m \u001b[0mdataset_root\u001b[0m \u001b[0;34m=\u001b[0m \u001b[0mPath\u001b[0m\u001b[0;34m(\u001b[0m\u001b[0;34m\"/Users/hadibhidya/Desktop/cs325/project/Garbage_Dataset_Classification/images\"\u001b[0m\u001b[0;34m)\u001b[0m\u001b[0;34m\u001b[0m\u001b[0;34m\u001b[0m\u001b[0m\n\u001b[1;32m      3\u001b[0m \u001b[0;34m\u001b[0m\u001b[0m\n\u001b[0;32m----> 4\u001b[0;31m \u001b[0;32massert\u001b[0m \u001b[0mdataset_root\u001b[0m\u001b[0;34m.\u001b[0m\u001b[0mexists\u001b[0m\u001b[0;34m(\u001b[0m\u001b[0;34m)\u001b[0m\u001b[0;34m,\u001b[0m \u001b[0;34mf\"Dataset root not found: {dataset_root}\"\u001b[0m\u001b[0;34m\u001b[0m\u001b[0;34m\u001b[0m\u001b[0m\n\u001b[0m\u001b[1;32m      5\u001b[0m \u001b[0;34m\u001b[0m\u001b[0m\n\u001b[1;32m      6\u001b[0m \u001b[0;31m# List subdirectories as candidate classes\u001b[0m\u001b[0;34m\u001b[0m\u001b[0;34m\u001b[0m\u001b[0m\n",
            "\u001b[0;31mAssertionError\u001b[0m: Dataset root not found: /Users/hadibhidya/Desktop/cs325/project/Garbage_Dataset_Classification/images"
          ]
        }
      ],
      "source": [
        "# Adjust this path to where your dataset is unzipped\n",
        "dataset_root = Path(\"/Users/hadibhidya/Desktop/cs325/project/Garbage_Dataset_Classification/images\")\n",
        "\n",
        "assert dataset_root.exists(), f\"Dataset root not found: {dataset_root}\"\n",
        "\n",
        "# List subdirectories as candidate classes\n",
        "classes = [d.name for d in dataset_root.iterdir() if d.is_dir()]\n",
        "classes = sorted(classes)\n",
        "print(\"Found classes:\", classes)"
      ]
    },
    {
      "cell_type": "markdown",
      "id": "4172c5c2",
      "metadata": {
        "id": "4172c5c2"
      },
      "source": [
        "## 3. Confirm expected classes & label consistency"
      ]
    },
    {
      "cell_type": "code",
      "execution_count": null,
      "id": "172ae614",
      "metadata": {
        "id": "172ae614"
      },
      "outputs": [],
      "source": [
        "expected = {\"plastic\", \"metal\", \"glass\", \"cardboard\", \"paper\", \"trash\"}\n",
        "found = set(classes)\n",
        "print(\"Expected classes:\", expected)\n",
        "print(\"Found classes:\", found)\n",
        "\n",
        "if found == expected:\n",
        "    print(\"✅ The classes match exactly the expected ones.\")\n",
        "else:\n",
        "    print(\"⚠️ Class mismatch.\")\n",
        "    print(\"Missing:\", expected - found)\n",
        "    print(\"Extra:\", found - expected)\n"
      ]
    },
    {
      "cell_type": "markdown",
      "id": "93712c4a",
      "metadata": {
        "id": "93712c4a"
      },
      "source": [
        "## 4. Count images per class & class balance"
      ]
    },
    {
      "cell_type": "code",
      "execution_count": null,
      "id": "efd96254",
      "metadata": {
        "id": "efd96254"
      },
      "outputs": [],
      "source": [
        "# We assume only .jpg and .jpeg\n",
        "IMG_EXTS = (\".jpg\", \".jpeg\")\n",
        "\n",
        "class_counts = {}\n",
        "for cls in classes:\n",
        "    cls_dir = dataset_root / cls\n",
        "    imgs = []\n",
        "    for ext in IMG_EXTS:\n",
        "        imgs.extend(list(cls_dir.glob(f\"*{ext}\")))\n",
        "    # Also check for any unexpected extensions\n",
        "    other = list(cls_dir.glob(\"*\"))\n",
        "    others = [p for p in other if p.suffix.lower() not in IMG_EXTS]\n",
        "    if others:\n",
        "        print(f\"Warning: found {len(others)} files in {cls} with unexpected extension(s): {set(p.suffix for p in others)}\")\n",
        "    class_counts[cls] = len(imgs)\n",
        "\n",
        "print(\"Counts per class:\")\n",
        "for cls, cnt in class_counts.items():\n",
        "    print(f\"  {cls}: {cnt}\")\n",
        "counts = np.array(list(class_counts.values()))\n",
        "print(\"Total images:\", counts.sum())\n",
        "print(\"Min , Max , Mean:\", counts.min(), \",\", counts.max(), \",\", counts.mean())\n"
      ]
    },
    {
      "cell_type": "markdown",
      "id": "542c58bd",
      "metadata": {
        "id": "542c58bd"
      },
      "source": [
        "# Step 5: Duplicate Detection, Preview & Cleaned Copy (change path in code block)"
      ]
    },
    {
      "cell_type": "code",
      "execution_count": null,
      "id": "f60165a3",
      "metadata": {
        "id": "f60165a3"
      },
      "outputs": [],
      "source": [
        "# --- Step 5: Duplicate Detection, Preview & Cleaned Copy (self-contained) ---\n",
        "\n",
        "import shutil\n",
        "from imagededup.methods import PHash\n",
        "\n",
        "# Supported extensions\n",
        "IMG_EXTS = (\".jpg\", \".jpeg\", \".png\")\n",
        "\n",
        "# 1. Run imagededup PHash per class\n",
        "ph = PHash()\n",
        "dups_all = {}\n",
        "\n",
        "for cls in classes:\n",
        "    cls_dir = dataset_root / cls\n",
        "    print(f\"Encoding class: {cls}\")\n",
        "    encodings = ph.encode_images(image_dir=str(cls_dir), recursive=False)\n",
        "    dups = ph.find_duplicates(encoding_map=encodings, max_distance_threshold=3) # 3 (≈ 95% similarity)\n",
        "    dups_all[cls] = dups\n",
        "    n_dup_keys = len([k for k, v in dups.items() if v])\n",
        "    print(f\"  {n_dup_keys} keys have duplicates in {cls}\")\n",
        "\n",
        "# 2. Collect duplicate pairs across all classes\n",
        "def collect_duplicate_pairs(dups_dict, cls):\n",
        "    pairs = []\n",
        "    for fname, dup_list in dups_dict.items():\n",
        "        for dup in dup_list:\n",
        "            pairs.append((cls, fname, dup))\n",
        "    return pairs\n",
        "\n",
        "all_pairs = []\n",
        "for cls, dups in dups_all.items():\n",
        "    all_pairs.extend(collect_duplicate_pairs(dups, cls))\n",
        "\n",
        "print(f\"\\nTotal duplicate pairs found: {len(all_pairs)}\")\n",
        "\n",
        "# 3. Preview first 5 duplicate pairs\n",
        "def preview_duplicate_pairs(pairs, n=5):\n",
        "    for idx, (cls, f1, f2) in enumerate(pairs[:n]):\n",
        "        path1 = dataset_root / cls / f1\n",
        "        path2 = dataset_root / cls / f2\n",
        "\n",
        "        fig, axes = plt.subplots(1, 2, figsize=(6, 3))\n",
        "        try:\n",
        "            img1 = Image.open(path1)\n",
        "            img2 = Image.open(path2)\n",
        "\n",
        "            axes[0].imshow(img1)\n",
        "            axes[0].set_title(f\"{f1}\", fontsize=8)\n",
        "            axes[0].axis(\"off\")\n",
        "\n",
        "            axes[1].imshow(img2)\n",
        "            axes[1].set_title(f\"{f2}\", fontsize=8)\n",
        "            axes[1].axis(\"off\")\n",
        "\n",
        "            plt.suptitle(f\"Class: {cls} — Duplicate Pair {idx}\")\n",
        "            plt.show()\n",
        "        except Exception as e:\n",
        "            print(f\"Error loading {f1}, {f2}:\", e)\n",
        "\n",
        "preview_duplicate_pairs(all_pairs, n=5)\n",
        "\n",
        "# 4. Build cleaned dataset copy\n",
        "cleaned_root = Path(\"/Users/hadibhidya/Desktop/cs325/project/Garbage_Dataset_Classification/images_cleaned\")\n",
        "cleaned_root.mkdir(parents=True, exist_ok=True)\n",
        "\n",
        "# Mark duplicates to remove (always second file in pair)\n",
        "to_remove = set([p[2] for p in all_pairs])\n",
        "print(\"Total duplicate files to remove:\", len(to_remove))\n",
        "\n",
        "# Before counts\n",
        "print(\"\\nClass counts BEFORE cleaning:\")\n",
        "for cls in classes:\n",
        "    total = sum(len(list((dataset_root/cls).glob(f\"*{ext}\"))) for ext in IMG_EXTS)\n",
        "    print(f\"  {cls}: {total}\")\n",
        "\n",
        "# Copy files, skipping duplicates\n",
        "for cls in classes:\n",
        "    src_dir = dataset_root / cls\n",
        "    dst_dir = cleaned_root / cls\n",
        "    dst_dir.mkdir(parents=True, exist_ok=True)\n",
        "\n",
        "    for ext in IMG_EXTS:\n",
        "        for file in src_dir.glob(f\"*{ext}\"):\n",
        "            if file.name not in to_remove:\n",
        "                shutil.copy(file, dst_dir / file.name)\n",
        "\n",
        "# After counts\n",
        "print(\"\\nClass counts AFTER cleaning:\")\n",
        "for cls in classes:\n",
        "    total = sum(len(list((cleaned_root/cls).glob(f\"*{ext}\"))) for ext in IMG_EXTS)\n",
        "    print(f\"  {cls}: {total}\")\n",
        "\n",
        "print(\"\\n✅ Cleaned dataset created at:\", cleaned_root)\n"
      ]
    },
    {
      "cell_type": "markdown",
      "id": "d2578750",
      "metadata": {
        "id": "d2578750"
      },
      "source": [
        "# Step 6: Confirm Image Sizes and Color Channels"
      ]
    },
    {
      "cell_type": "code",
      "execution_count": null,
      "id": "3a6d2972",
      "metadata": {
        "id": "3a6d2972"
      },
      "outputs": [],
      "source": [
        "shape_counter = Counter()\n",
        "channel_counter = Counter()\n",
        "bad_images = []\n",
        "\n",
        "for cls in classes:\n",
        "    cls_dir = cleaned_root / cls   # use the CLEANED dataset\n",
        "    for ext in IMG_EXTS:\n",
        "        for p in cls_dir.glob(f\"*{ext}\"):\n",
        "            try:\n",
        "                with Image.open(p) as img:\n",
        "                    arr = np.array(img)\n",
        "                shape_counter[arr.shape] += 1\n",
        "                if arr.ndim == 3:\n",
        "                    channel_counter[arr.shape[2]] += 1\n",
        "                else:\n",
        "                    channel_counter[1] += 1\n",
        "            except Exception as e:\n",
        "                bad_images.append((p, str(e)))\n",
        "\n",
        "print(\"Image shape distribution (H, W, [C]):\")\n",
        "for shp, cnt in shape_counter.items():\n",
        "    print(f\"  {shp}: {cnt} images\")\n",
        "\n",
        "print(\"\\nChannel counts:\")\n",
        "for c, cnt in channel_counter.items():\n",
        "    print(f\"  {c} channels: {cnt} images\")\n",
        "\n",
        "print(\"\\nNumber of images that failed to load:\", len(bad_images))\n",
        "if bad_images:\n",
        "    print(\"Sample failed images:\", bad_images[:5])"
      ]
    },
    {
      "cell_type": "markdown",
      "id": "f605625b",
      "metadata": {
        "id": "f605625b"
      },
      "source": [
        "# Step 7: Verify Labels Align with Images (using metadata.csv)"
      ]
    },
    {
      "cell_type": "code",
      "execution_count": null,
      "id": "43777ffe",
      "metadata": {
        "id": "43777ffe"
      },
      "outputs": [],
      "source": [
        "import pandas as pd\n",
        "\n",
        "# 1. Verify every image in cleaned_root is inside the expected class folder\n",
        "problems = []\n",
        "for cls in classes:\n",
        "    cls_dir = cleaned_root / cls\n",
        "    for ext in IMG_EXTS:\n",
        "        for p in cls_dir.glob(f\"*{ext}\"):\n",
        "            if p.parent.name != cls:\n",
        "                problems.append((p, p.parent.name, cls))\n",
        "\n",
        "if problems:\n",
        "    print(f\"⚠️ Found {len(problems)} images in the wrong folder:\")\n",
        "    print(problems[:10])\n",
        "else:\n",
        "    print(\"✅ All images are in the correct class folders.\")\n",
        "\n",
        "# 2. Cross-check with metadata.csv located at the dataset's parent folder\n",
        "metadata_path = dataset_root.parent / \"metadata.csv\"\n",
        "\n",
        "if metadata_path.exists():\n",
        "    meta = pd.read_csv(metadata_path)\n",
        "    meta_map = dict(zip(meta.filename, meta.label))\n",
        "\n",
        "    mismatches = []\n",
        "    for cls in classes:\n",
        "        cls_dir = cleaned_root / cls\n",
        "        for ext in IMG_EXTS:\n",
        "            for p in cls_dir.glob(f\"*{ext}\"):\n",
        "                fname = p.name\n",
        "                if fname in meta_map and meta_map[fname] != cls:\n",
        "                    mismatches.append((fname, cls, meta_map[fname]))\n",
        "\n",
        "    if mismatches:\n",
        "        print(f\"⚠️ Found {len(mismatches)} mismatches with metadata.csv:\")\n",
        "        print(mismatches[:10])\n",
        "    else:\n",
        "        print(\"✅ Folder labels match metadata.csv for all files checked.\")\n",
        "else:\n",
        "    print(\"⚠️ metadata.csv not found at:\", metadata_path)"
      ]
    },
    {
      "cell_type": "markdown",
      "id": "6340922d",
      "metadata": {
        "id": "6340922d"
      },
      "source": [
        "# Step 8: Stratified Split using StratifiedShuffleSplit (80/10/10)"
      ]
    },
    {
      "cell_type": "code",
      "execution_count": null,
      "id": "a73da49d",
      "metadata": {
        "id": "a73da49d"
      },
      "outputs": [],
      "source": [
        "from sklearn.model_selection import StratifiedShuffleSplit\n",
        "from collections import Counter\n",
        "\n",
        "# Rebuild data list from cleaned dataset\n",
        "data = []\n",
        "for cls in classes:\n",
        "    cls_dir = cleaned_root / cls\n",
        "    for ext in IMG_EXTS:\n",
        "        for p in cls_dir.glob(f\"*{ext}\"):\n",
        "            data.append((p, cls))\n",
        "\n",
        "print(\"Total cleaned samples:\", len(data))\n",
        "\n",
        "paths = [p for p, lbl in data]\n",
        "labels = [lbl for p, lbl in data]\n",
        "\n",
        "# Choose your split ratios\n",
        "test_ratio = 0.10\n",
        "val_ratio = 0.10\n",
        "train_ratio = 1.0 - (test_ratio + val_ratio)\n",
        "assert train_ratio > 0, \"Make sure ratios sum to less than 1\"\n",
        "\n",
        "# 1. Split off test set\n",
        "sss = StratifiedShuffleSplit(n_splits=1, test_size=test_ratio, random_state=42)\n",
        "for train_valid_idx, test_idx in sss.split(paths, labels):\n",
        "    pass\n",
        "\n",
        "train_valid_paths = [paths[i] for i in train_valid_idx]\n",
        "train_valid_labels = [labels[i] for i in train_valid_idx]\n",
        "test_paths = [paths[i] for i in test_idx]\n",
        "test_labels = [labels[i] for i in test_idx]\n",
        "\n",
        "# 2. Split train_valid into train + validation\n",
        "rel_val = val_ratio / (train_ratio + val_ratio)\n",
        "sss2 = StratifiedShuffleSplit(n_splits=1, test_size=rel_val, random_state=42)\n",
        "for train_idx2, val_idx in sss2.split(train_valid_paths, train_valid_labels):\n",
        "    pass\n",
        "\n",
        "train_paths = [train_valid_paths[i] for i in train_idx2]\n",
        "train_labels = [train_valid_labels[i] for i in train_idx2]\n",
        "val_paths = [train_valid_paths[i] for i in val_idx]\n",
        "val_labels = [train_valid_labels[i] for i in val_idx]\n",
        "\n",
        "# Build final splits\n",
        "train_set = list(zip(train_paths, train_labels))\n",
        "valid_set = list(zip(val_paths, val_labels))\n",
        "test_set = list(zip(test_paths, test_labels))\n",
        "\n",
        "# Print sizes\n",
        "print(\"Total:\", len(data))\n",
        "print(\"Train:\", len(train_set), \"Validation:\", len(valid_set), \"Test:\", len(test_set))\n",
        "print()\n",
        "\n",
        "def print_dist(split, name):\n",
        "    c = Counter(lbl for _, lbl in split)\n",
        "    print(f\"{name} class counts:\")\n",
        "    for cls in classes:\n",
        "        print(f\"  {cls}: {c.get(cls, 0)}\")\n",
        "    print()\n",
        "\n",
        "print_dist(train_set, \"Train\")\n",
        "print_dist(valid_set, \"Validation\")\n",
        "print_dist(test_set, \"Test\")\n"
      ]
    }
  ],
  "metadata": {
    "kernelspec": {
      "display_name": ".venv",
      "language": "python",
      "name": "python3"
    },
    "language_info": {
      "codemirror_mode": {
        "name": "ipython",
        "version": 3
      },
      "file_extension": ".py",
      "mimetype": "text/x-python",
      "name": "python",
      "nbconvert_exporter": "python",
      "pygments_lexer": "ipython3",
      "version": "3.10.9"
    },
    "colab": {
      "provenance": []
    }
  },
  "nbformat": 4,
  "nbformat_minor": 5
}